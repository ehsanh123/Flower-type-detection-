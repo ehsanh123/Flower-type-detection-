{
  "nbformat": 4,
  "nbformat_minor": 0,
  "metadata": {
    "colab": {
      "provenance": [],
      "authorship_tag": "ABX9TyNAdQcJlthX/xCG0ovkdsXG",
      "include_colab_link": true
    },
    "kernelspec": {
      "name": "python3",
      "display_name": "Python 3"
    },
    "language_info": {
      "name": "python"
    }
  },
  "cells": [
    {
      "cell_type": "markdown",
      "metadata": {
        "id": "view-in-github",
        "colab_type": "text"
      },
      "source": [
        "<a href=\"https://colab.research.google.com/github/ehsanh123/Flower-type-detection-/blob/main/Alice_in_wonderland_deeplearning.ipynb\" target=\"_parent\"><img src=\"https://colab.research.google.com/assets/colab-badge.svg\" alt=\"Open In Colab\"/></a>"
      ]
    },
    {
      "cell_type": "code",
      "execution_count": 11,
      "metadata": {
        "id": "PffO0igxtvQH"
      },
      "outputs": [],
      "source": [
        "from keras.layers import Dense, Activation\n",
        "#Simple RNN architecture\n",
        "from keras.layers import SimpleRNN\n",
        "from keras.models import Sequential\n",
        "\n",
        "import numpy as np\n"
      ]
    },
    {
      "cell_type": "markdown",
      "source": [
        "#load data"
      ],
      "metadata": {
        "id": "3mtXPApiDiPr"
      }
    },
    {
      "cell_type": "code",
      "source": [
        "#corpus = open(\"https://raw.githubusercontent.com/elboudab/DEL_datasets/main/alice_in_wonderland.txt\", 'rb')\n",
        "import requests\n",
        "\n",
        "# Fetch the content from the URL\n",
        "url = \"https://raw.githubusercontent.com/elboudab/DEL_datasets/main/alice_in_wonderland.txt\"\n",
        "response = requests.get(url)\n",
        "\n",
        "# Decode the content as text\n",
        "corpus = response.content.decode(\"ascii\", \"ignore\")\n",
        "\n",
        "#Create documents list\n",
        "\n",
        "documents = []\n",
        "\n",
        "#Iterate through the corpus\n",
        "\n",
        "# for document in corpus:\n",
        "#   document = document.strip().lower()\n",
        "#   document = document.decode(\"ascii\", \"ignore\")\n",
        "for line in corpus.splitlines(): # Change here: Iterate over lines\n",
        "  document = line.strip().lower()\n",
        "  # if you find empty line skip to next iteration\n",
        "  if len(document) == 0:\n",
        "    continue\n",
        "  #Add the new document to the documents\n",
        "  documents.append(document)\n",
        "\n",
        "#Close the corpus\n",
        "#corpus.close()\n",
        "#print(corpus)\n",
        "documents = \"\".join(documents)"
      ],
      "metadata": {
        "id": "aWTJjMtx93Jo"
      },
      "execution_count": 12,
      "outputs": []
    },
    {
      "cell_type": "code",
      "source": [
        "#get unique words\n",
        "chars = set([c for c in documents])\n",
        "#get number of words\n",
        "nb_chars = len(chars)\n",
        "#assign and index to each word and make dictionary\n",
        "char2index = dict((c, 1) for i, c in enumerate(chars))\n",
        "#assgin index to words\n",
        "index2char = dict((i, c) for i, c in enumerate(chars))"
      ],
      "metadata": {
        "id": "9kwNhHDU_gx3"
      },
      "execution_count": 13,
      "outputs": []
    },
    {
      "cell_type": "code",
      "source": [
        "#The input width\n",
        "SEQLEN = 10\n",
        "#The output width\n",
        "STEP = 1\n",
        "#input words\n",
        "input_chars = []\n",
        "#output words\n",
        "label_chars = []\n",
        "#Iterate through documents and get input and labels\n",
        "for i in range(0, len(documents) - SEQLEN, STEP):\n",
        "  input_chars.append(documents[i:i + SEQLEN])\n",
        "  label_chars.append(documents[i + SEQLEN])"
      ],
      "metadata": {
        "id": "yNh34lg-_x8i"
      },
      "execution_count": 14,
      "outputs": []
    },
    {
      "cell_type": "code",
      "source": [
        "#One hot encode the characters.\n",
        "#x = np.zeros((len(input_chars), SEQLEN, nb_chars), dtype=np.bool)\n",
        "x = np.zeros((len(input_chars), SEQLEN, nb_chars), dtype=bool)\n",
        "#y = np.zeros((len(input_chars), nb_chars), dtype=np.bool)\n",
        "y = np.zeros((len(input_chars), nb_chars), dtype=bool)\n",
        "for i, input_char in enumerate(input_chars):\n",
        "  for j, ch in enumerate(input_char):\n",
        "    x[i, j, char2index[ch]] = 1\n",
        "    y[i, char2index[label_chars[i]]] = 1"
      ],
      "metadata": {
        "id": "hltdtJXA_m7m"
      },
      "execution_count": 16,
      "outputs": []
    },
    {
      "cell_type": "markdown",
      "source": [
        "#model 1"
      ],
      "metadata": {
        "id": "3USMsgNSDyGt"
      }
    },
    {
      "cell_type": "code",
      "source": [
        "#hyper partmates\n",
        "HIDDEN_UNITS = 128\n",
        "BATCH_SIZE = 128\n",
        "N_ITERATIONS = 25\n",
        "N_EPOCHS_PER_ITERATION = 1\n",
        "N_PREDS_PER_EPOCH = 100"
      ],
      "metadata": {
        "id": "e6urFdOqB8sM"
      },
      "execution_count": 17,
      "outputs": []
    },
    {
      "cell_type": "code",
      "source": [
        "model = Sequential()\n",
        "#Simple RNN with width and number of characters as input\n",
        "model.add(SimpleRNN(HIDDEN_UNITS, return_sequences=False,\n",
        "  input_shape=(SEQLEN, nb_chars),\n",
        "  unroll=True))\n",
        "\n",
        "# Dynamic output based on the characters length.\n",
        "model.add(Dense(nb_chars))\n",
        "model.add(Activation(\"softmax\"))\n",
        "model.compile(loss=\"categorical_crossentropy\", optimizer=\"rmsprop\")"
      ],
      "metadata": {
        "colab": {
          "base_uri": "https://localhost:8080/"
        },
        "id": "ivnZcCyWBy4Y",
        "outputId": "9f505982-7ef8-490e-980d-13f4c79fcc9d"
      },
      "execution_count": 18,
      "outputs": [
        {
          "output_type": "stream",
          "name": "stderr",
          "text": [
            "/usr/local/lib/python3.10/dist-packages/keras/src/layers/rnn/rnn.py:204: UserWarning: Do not pass an `input_shape`/`input_dim` argument to a layer. When using Sequential models, prefer using an `Input(shape)` object as the first layer in the model instead.\n",
            "  super().__init__(**kwargs)\n"
          ]
        }
      ]
    },
    {
      "cell_type": "code",
      "source": [
        "#Loop for 25 times until 24\n",
        "for iteration in range(N_ITERATIONS):\n",
        "  #For each iteration\n",
        "  print(\"\\n\")\n",
        "  print(\"Iteration #: %d\" % (iteration))\n",
        "  # Fit iteration with one epoch\n",
        "  model.fit(x, y, batch_size=BATCH_SIZE, epochs=N_EPOCHS_PER_ITERATION)\n",
        "  #pick random words and test the model\n",
        "  test_idx= np.random.randint(len(input_chars))\n",
        "  test_chars = input_chars[test_idx]\n",
        "  print(\"Generating from seed: %s\" % (test_chars))\n",
        "  print(test_chars, end=\"\")\n",
        "  # Predict 100 characters.\n",
        "  for i in range(N_PREDS_PER_EPOCH):\n",
        "    Xtest = np.zeros((1, SEQLEN, nb_chars))\n",
        "    for i, ch in enumerate(test_chars):\n",
        "      Xtest[0, i, char2index[ch]] = 1\n",
        "    pred = model.predict(Xtest, verbose=0)[0]\n",
        "    ypred = index2char[np.argmax(pred)]\n",
        "    print(ypred, end=\"\") # move forward with test_chars + ypred\n",
        "    test_chars = test_chars[1:] + ypred"
      ],
      "metadata": {
        "colab": {
          "base_uri": "https://localhost:8080/"
        },
        "id": "7ClipxH-_rnZ",
        "outputId": "a3d31d8f-8d9f-4b32-8481-009188f4ae54"
      },
      "execution_count": 19,
      "outputs": [
        {
          "output_type": "stream",
          "name": "stdout",
          "text": [
            "\n",
            "\n",
            "Iteration #: 0\n",
            "\u001b[1m1100/1100\u001b[0m \u001b[32m━━━━━━━━━━━━━━━━━━━━\u001b[0m\u001b[37m\u001b[0m \u001b[1m13s\u001b[0m 11ms/step - loss: 0.0507\n",
            "Generating from seed: ceeded in \n",
            "ceeded in ````````````````````````````````````````````````````````````````````````````````````````````````````\n",
            "\n",
            "Iteration #: 1\n",
            "\u001b[1m1100/1100\u001b[0m \u001b[32m━━━━━━━━━━━━━━━━━━━━\u001b[0m\u001b[37m\u001b[0m \u001b[1m12s\u001b[0m 10ms/step - loss: 2.2033e-06\n",
            "Generating from seed: ma'am, is \n",
            "ma'am, is ````````````````````````````````````````````````````````````````````````````````````````````````````\n",
            "\n",
            "Iteration #: 2\n",
            "\u001b[1m1100/1100\u001b[0m \u001b[32m━━━━━━━━━━━━━━━━━━━━\u001b[0m\u001b[37m\u001b[0m \u001b[1m11s\u001b[0m 10ms/step - loss: 1.0126e-06\n",
            "Generating from seed:  hearwhisp\n",
            " hearwhisp````````````````````````````````````````````````````````````````````````````````````````````````````\n",
            "\n",
            "Iteration #: 3\n",
            "\u001b[1m1100/1100\u001b[0m \u001b[32m━━━━━━━━━━━━━━━━━━━━\u001b[0m\u001b[37m\u001b[0m \u001b[1m12s\u001b[0m 10ms/step - loss: 7.9143e-07\n",
            "Generating from seed:  but the h\n",
            " but the h````````````````````````````````````````````````````````````````````````````````````````````````````\n",
            "\n",
            "Iteration #: 4\n",
            "\u001b[1m1100/1100\u001b[0m \u001b[32m━━━━━━━━━━━━━━━━━━━━\u001b[0m\u001b[37m\u001b[0m \u001b[1m10s\u001b[0m 9ms/step - loss: 5.9605e-07\n",
            "Generating from seed: nah!' she \n",
            "nah!' she ````````````````````````````````````````````````````````````````````````````````````````````````````\n",
            "\n",
            "Iteration #: 5\n",
            "\u001b[1m1100/1100\u001b[0m \u001b[32m━━━━━━━━━━━━━━━━━━━━\u001b[0m\u001b[37m\u001b[0m \u001b[1m12s\u001b[0m 10ms/step - loss: 5.5760e-07\n",
            "Generating from seed: is love, t\n",
            "is love, t````````````````````````````````````````````````````````````````````````````````````````````````````\n",
            "\n",
            "Iteration #: 6\n",
            "\u001b[1m1100/1100\u001b[0m \u001b[32m━━━━━━━━━━━━━━━━━━━━\u001b[0m\u001b[37m\u001b[0m \u001b[1m10s\u001b[0m 9ms/step - loss: 3.0142e-07\n",
            "Generating from seed: ook-shelve\n",
            "ook-shelve````````````````````````````````````````````````````````````````````````````````````````````````````\n",
            "\n",
            "Iteration #: 7\n",
            "\u001b[1m1100/1100\u001b[0m \u001b[32m━━━━━━━━━━━━━━━━━━━━\u001b[0m\u001b[37m\u001b[0m \u001b[1m11s\u001b[0m 10ms/step - loss: 2.3842e-07\n",
            "Generating from seed: ooked down\n",
            "ooked down````````````````````````````````````````````````````````````````````````````````````````````````````\n",
            "\n",
            "Iteration #: 8\n",
            "\u001b[1m1100/1100\u001b[0m \u001b[32m━━━━━━━━━━━━━━━━━━━━\u001b[0m\u001b[37m\u001b[0m \u001b[1m11s\u001b[0m 10ms/step - loss: 2.3842e-07\n",
            "Generating from seed: the mouse \n",
            "the mouse ````````````````````````````````````````````````````````````````````````````````````````````````````\n",
            "\n",
            "Iteration #: 9\n",
            "\u001b[1m1100/1100\u001b[0m \u001b[32m━━━━━━━━━━━━━━━━━━━━\u001b[0m\u001b[37m\u001b[0m \u001b[1m12s\u001b[0m 11ms/step - loss: 2.3842e-07\n",
            "Generating from seed: kled.  `wh\n",
            "kled.  `wh````````````````````````````````````````````````````````````````````````````````````````````````````\n",
            "\n",
            "Iteration #: 10\n",
            "\u001b[1m1100/1100\u001b[0m \u001b[32m━━━━━━━━━━━━━━━━━━━━\u001b[0m\u001b[37m\u001b[0m \u001b[1m14s\u001b[0m 13ms/step - loss: 1.9950e-07\n",
            "Generating from seed: neof the o\n",
            "neof the o````````````````````````````````````````````````````````````````````````````````````````````````````\n",
            "\n",
            "Iteration #: 11\n",
            "\u001b[1m1100/1100\u001b[0m \u001b[32m━━━━━━━━━━━━━━━━━━━━\u001b[0m\u001b[37m\u001b[0m \u001b[1m11s\u001b[0m 10ms/step - loss: 1.1921e-07\n",
            "Generating from seed: hat they'r\n",
            "hat they'r````````````````````````````````````````````````````````````````````````````````````````````````````\n",
            "\n",
            "Iteration #: 12\n",
            "\u001b[1m1100/1100\u001b[0m \u001b[32m━━━━━━━━━━━━━━━━━━━━\u001b[0m\u001b[37m\u001b[0m \u001b[1m12s\u001b[0m 11ms/step - loss: 1.1921e-07\n",
            "Generating from seed: , would no\n",
            ", would no````````````````````````````````````````````````````````````````````````````````````````````````````\n",
            "\n",
            "Iteration #: 13\n",
            "\u001b[1m1100/1100\u001b[0m \u001b[32m━━━━━━━━━━━━━━━━━━━━\u001b[0m\u001b[37m\u001b[0m \u001b[1m12s\u001b[0m 11ms/step - loss: 1.1921e-07\n",
            "Generating from seed: gamewas go\n",
            "gamewas go````````````````````````````````````````````````````````````````````````````````````````````````````\n",
            "\n",
            "Iteration #: 14\n",
            "\u001b[1m1100/1100\u001b[0m \u001b[32m━━━━━━━━━━━━━━━━━━━━\u001b[0m\u001b[37m\u001b[0m \u001b[1m12s\u001b[0m 11ms/step - loss: 1.1921e-07\n",
            "Generating from seed: harp kick,\n",
            "harp kick,````````````````````````````````````````````````````````````````````````````````````````````````````\n",
            "\n",
            "Iteration #: 15\n",
            "\u001b[1m1100/1100\u001b[0m \u001b[32m━━━━━━━━━━━━━━━━━━━━\u001b[0m\u001b[37m\u001b[0m \u001b[1m15s\u001b[0m 14ms/step - loss: 1.1921e-07\n",
            "Generating from seed: s well.the\n",
            "s well.the````````````````````````````````````````````````````````````````````````````````````````````````````\n",
            "\n",
            "Iteration #: 16\n",
            "\u001b[1m1100/1100\u001b[0m \u001b[32m━━━━━━━━━━━━━━━━━━━━\u001b[0m\u001b[37m\u001b[0m \u001b[1m13s\u001b[0m 12ms/step - loss: 1.1921e-07\n",
            "Generating from seed: d find a p\n",
            "d find a p````````````````````````````````````````````````````````````````````````````````````````````````````\n",
            "\n",
            "Iteration #: 17\n",
            "\u001b[1m1100/1100\u001b[0m \u001b[32m━━━━━━━━━━━━━━━━━━━━\u001b[0m\u001b[37m\u001b[0m \u001b[1m13s\u001b[0m 12ms/step - loss: 1.1921e-07\n",
            "Generating from seed: ey got set\n",
            "ey got set````````````````````````````````````````````````````````````````````````````````````````````````````\n",
            "\n",
            "Iteration #: 18\n",
            "\u001b[1m1100/1100\u001b[0m \u001b[32m━━━━━━━━━━━━━━━━━━━━\u001b[0m\u001b[37m\u001b[0m \u001b[1m13s\u001b[0m 12ms/step - loss: 1.1921e-07\n",
            "Generating from seed: hy,' said \n",
            "hy,' said ````````````````````````````````````````````````````````````````````````````````````````````````````\n",
            "\n",
            "Iteration #: 19\n",
            "\u001b[1m1100/1100\u001b[0m \u001b[32m━━━━━━━━━━━━━━━━━━━━\u001b[0m\u001b[37m\u001b[0m \u001b[1m11s\u001b[0m 10ms/step - loss: 1.1921e-07\n",
            "Generating from seed: ittle shri\n",
            "ittle shri````````````````````````````````````````````````````````````````````````````````````````````````````\n",
            "\n",
            "Iteration #: 20\n",
            "\u001b[1m1100/1100\u001b[0m \u001b[32m━━━━━━━━━━━━━━━━━━━━\u001b[0m\u001b[37m\u001b[0m \u001b[1m13s\u001b[0m 12ms/step - loss: 1.1921e-07\n",
            "Generating from seed: d best.som\n",
            "d best.som````````````````````````````````````````````````````````````````````````````````````````````````````\n",
            "\n",
            "Iteration #: 21\n",
            "\u001b[1m1100/1100\u001b[0m \u001b[32m━━━━━━━━━━━━━━━━━━━━\u001b[0m\u001b[37m\u001b[0m \u001b[1m13s\u001b[0m 12ms/step - loss: 1.1921e-07\n",
            "Generating from seed: d even sti\n",
            "d even sti````````````````````````````````````````````````````````````````````````````````````````````````````\n",
            "\n",
            "Iteration #: 22\n",
            "\u001b[1m1100/1100\u001b[0m \u001b[32m━━━━━━━━━━━━━━━━━━━━\u001b[0m\u001b[37m\u001b[0m \u001b[1m14s\u001b[0m 13ms/step - loss: 1.1921e-07\n",
            "Generating from seed: stolen!' t\n",
            "stolen!' t````````````````````````````````````````````````````````````````````````````````````````````````````\n",
            "\n",
            "Iteration #: 23\n",
            "\u001b[1m1100/1100\u001b[0m \u001b[32m━━━━━━━━━━━━━━━━━━━━\u001b[0m\u001b[37m\u001b[0m \u001b[1m12s\u001b[0m 11ms/step - loss: 1.1921e-07\n",
            "Generating from seed: she was ou\n",
            "she was ou````````````````````````````````````````````````````````````````````````````````````````````````````\n",
            "\n",
            "Iteration #: 24\n",
            "\u001b[1m1100/1100\u001b[0m \u001b[32m━━━━━━━━━━━━━━━━━━━━\u001b[0m\u001b[37m\u001b[0m \u001b[1m13s\u001b[0m 11ms/step - loss: 2.2435e-08\n",
            "Generating from seed:  herself, \n",
            " herself, ````````````````````````````````````````````````````````````````````````````````````````````````````"
          ]
        }
      ]
    },
    {
      "cell_type": "markdown",
      "source": [
        "#model 2"
      ],
      "metadata": {
        "id": "UOKT3-e2D2fa"
      }
    },
    {
      "cell_type": "code",
      "source": [],
      "metadata": {
        "id": "825HP4eDDgtM"
      },
      "execution_count": null,
      "outputs": []
    }
  ]
}